{
 "cells": [
  {
   "cell_type": "markdown",
   "id": "5b8ca4fe-2824-4fb7-b6d3-1060d7354ba2",
   "metadata": {},
   "source": [
    "## Logistic Growth"
   ]
  },
  {
   "cell_type": "markdown",
   "id": "628b9c24-ad8a-4bf2-bb01-1be740a67fcb",
   "metadata": {},
   "source": [
    "- In our basic exponential growth scenario, we had a recursive equation of the form: \n",
    "$$P_n = P_{n-1} + r P_{n-1}$$\n",
    "- In a confined environment, however, the growth rate may not remain constant. \n",
    "\n",
    "- In a lake, for example, there is some maximum sustainable population of fish, also called a carrying capacity, which is the largest population that the resources in the lake can sustain. \n",
    "\n",
    "- If the population in the lake is far below the carrying capacity, then the population will grow essentially exponentially, but as the population approaches the carrying capacity, the growth rate will decrease. \n",
    "\n",
    "- If the population exceeds the carrying capacity, there won’t be enough resources to sustain all the fish and there will be a negative growth rate.\n",
    "- If the carrying capacity was 5000, the growth rate might vary something like that in the graph shown.\n",
    "- Take note that the Growth rate decreases linearly as population increases.\n",
    "- Recall the equation:\n",
    "\n",
    "   $y = mx + c$\n",
    "\n",
    "   $m = ∆ y / ∆ x$\n",
    "\n",
    "Suppose we take $(x_1 , y_1)$ as $(0 , 0.1)$ and $(x_2, y_2)$ as $(5000, 0)$\n",
    "\n",
    "Then, $m = \\frac{(0.1 – 0)}{(0 -5000)}= \\frac{-0.1}{5000}$\n",
    "\n",
    "Furthermore, $C = 0.1$\n",
    "\n",
    "From the Graph:\n",
    "  \n",
    "   $x \\rightarrow P (Population)$\n",
    "  \n",
    "   $y \\rightarrow r (Growth Rate)$\n",
    "Thus\n",
    "  \n",
    "  $r = (\\frac{-0.1}{5000})*P + 0.1$\n",
    "\n",
    "\n",
    "Suppose we call this new value of r as radjusted then\n",
    "\n",
    "$r_{adjusted} = 0.1 – (\\frac{0.1}{5000})P$ \n",
    "\n",
    "$r_{adjusted} = 0.1( 1 – P/5000)$\n",
    "              \n",
    "Substituting this adjusted rate in to our original exponential growth model gives :\n",
    "\n",
    "   $P_n = P_{n-1} + rP_{n-1}$\n",
    "   \n",
    "$P_n = P_{n-1} + [0.1( 1 – \\frac{P_{n-1}}{5000})]P_{n-1} $\n",
    "\n",
    "\n",
    "Generalizing, given exponential growth rate r and carrying capacity K, we have a growth model for Logistic Growth. \n",
    "\n",
    "$$P_n = P_{n-1} + r ( 1 – \\frac{P_{n-1}}{K}) P_{n-1}$$\n",
    "\n",
    "\n",
    "With this equation we can use "
   ]
  },
  {
   "cell_type": "code",
   "execution_count": 19,
   "id": "0900d821-ea9d-4f64-95f4-0252a9f93e65",
   "metadata": {},
   "outputs": [],
   "source": [
    "import matplotlib.pyplot as plt\n",
    "import numpy as np"
   ]
  },
  {
   "cell_type": "markdown",
   "id": "aaf0c7b8-5aef-4808-9b49-fb918552f3cb",
   "metadata": {},
   "source": [
    "### Recursive Function\t\n",
    "In Python, we know that a function can call other functions. It is even possible for the function to call itself. These types of construct are termed as recursive functions.\n",
    "\n",
    "The following is an example of a recursive function to find the factorial of an integer.\n",
    "\n",
    "Factorial of a number is the product of all the integers from 1 to that number. \n",
    "\n",
    "For example, the factorial of 6 (denoted as 6!) is 1 x 2 x 3 x 4 x 5 x 6 = 720"
   ]
  },
  {
   "cell_type": "code",
   "execution_count": 17,
   "id": "d8d06996-d15c-4c69-b20e-b821ea4bd4b4",
   "metadata": {},
   "outputs": [
    {
     "name": "stdout",
     "output_type": "stream",
     "text": [
      "The factorial of 3 is 6\n"
     ]
    }
   ],
   "source": [
    "def factorial(x):\n",
    "    if x == 1:\n",
    "        return 1\n",
    "    else:\n",
    "        return (x * factorial(x-1))\n",
    "num = 3\n",
    "print(\"The factorial of\", num, \"is\", factorial(num))"
   ]
  },
  {
   "cell_type": "markdown",
   "id": "ff9a04e0-90ff-4961-a87f-1c4e792c4eb3",
   "metadata": {},
   "source": [
    "### Logistic Growth and Recursion\n",
    "In order to solve logistic growth problems we need to use recusive functions. In the following examples we shall calculate and plot the population of interest after x years."
   ]
  },
  {
   "cell_type": "markdown",
   "id": "b890ba12-5441-460e-ac34-a9e4d5e2086b",
   "metadata": {
    "tags": []
   },
   "source": [
    "#### Question 1: \n",
    "A forest is currently home to a population of 200 rabbits. The forest is estimated to be able to sustain a population of 2000 rabbits. Absent any restrictions, the rabbits would grow by 50% per year. \n",
    "\n",
    "##### Solution:\n",
    "Modeling this with a logistic growth model, r = 0.50, K = 2000, and P<sub>0</sub> = 200. \n",
    "\n",
    "Recall, $P_n = P_{n-1}+r*(\\dfrac{1-P_{n-1}}{k})*P_{n-1}$ \n",
    "\n",
    "Therefore,\n",
    "\n",
    "$P_1 = P_0+0.50*(1-\\dfrac{P_0}{2000})*P_0 = 200 + 0.5*(\\dfrac{1-200}{2000})*200 = 290$\n",
    "\n",
    "$P_2 = P_1+0.50*(1-\\dfrac{P_1}{2000})*P_1 = 290 + 0.5*(\\dfrac{1-290}{2000})*290 \\approx 414$\n",
    "\n",
    "$P_3 = P_2+0.50*(1-\\dfrac{P_2}{2000})*P_2 = 414 + 0.5*(\\dfrac{1-414}{2000})*414 \\approx 578$\n",
    "\n",
    "...\n",
    "\n",
    "We can see the recursive pattern in this scenario, can you plot the graph to show the population growth over the years ?"
   ]
  },
  {
   "cell_type": "code",
   "execution_count": 18,
   "id": "7fef0ec1-1197-48c9-8a74-b27303a567f7",
   "metadata": {},
   "outputs": [],
   "source": [
    "# Your solution goes here"
   ]
  },
  {
   "cell_type": "markdown",
   "id": "d5115623-9e5b-404a-bc41-215cd4b20828",
   "metadata": {},
   "source": [
    "#### Question 2: \n",
    "On an island that can support a population of 1000 lizards, there is currently a population of 600. These lizards have a lot of offspring and not a lot of natural predators, so have very high growth rate, around 150%. Plot the graph to show the population trend over the years\n"
   ]
  },
  {
   "cell_type": "code",
   "execution_count": 15,
   "id": "584fa342-1196-44e9-b86f-2a27a2275d0c",
   "metadata": {},
   "outputs": [],
   "source": [
    "# Your solution goes here"
   ]
  },
  {
   "cell_type": "markdown",
   "id": "99696b30-7ff2-442f-b137-70bfefc11178",
   "metadata": {},
   "source": [
    "#### Question 3: \n",
    "    \n",
    "Suppose On a neighboring island, with the same conditions but a higher growth rate of about 205%.\n",
    "Plot the graph of the population growth in the island."
   ]
  },
  {
   "cell_type": "code",
   "execution_count": 11,
   "id": "b0045c08-4288-4903-8792-8f44077fc6f1",
   "metadata": {},
   "outputs": [],
   "source": [
    "# Your solution goes here"
   ]
  }
 ],
 "metadata": {
  "kernelspec": {
   "display_name": "Python 3 (ipykernel)",
   "language": "python",
   "name": "python3"
  },
  "language_info": {
   "codemirror_mode": {
    "name": "ipython",
    "version": 3
   },
   "file_extension": ".py",
   "mimetype": "text/x-python",
   "name": "python",
   "nbconvert_exporter": "python",
   "pygments_lexer": "ipython3",
   "version": "3.8.10"
  }
 },
 "nbformat": 4,
 "nbformat_minor": 5
}
