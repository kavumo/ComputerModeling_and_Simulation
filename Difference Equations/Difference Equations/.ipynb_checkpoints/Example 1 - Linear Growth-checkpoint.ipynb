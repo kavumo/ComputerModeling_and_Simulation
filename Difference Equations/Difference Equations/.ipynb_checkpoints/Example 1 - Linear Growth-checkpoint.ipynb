{
 "cells": [
  {
   "cell_type": "markdown",
   "id": "0f482a04-67a8-4d6d-a280-2c53b3e59ed2",
   "metadata": {},
   "source": [
    "#### Example: Linear Growth\n",
    "\n",
    "The population of antelopes at Ngorongoro National Park was measured to be 12,000 in 2003, and was measured again to be 15,000 in 2007. If the population continues to grow linearly at this rate, what will the antelopes population be in 2014?"
   ]
  },
  {
   "cell_type": "code",
   "execution_count": 33,
   "id": "4c5113f0-0f8b-49f7-bcf4-778913f5caa0",
   "metadata": {},
   "outputs": [],
   "source": [
    "import matplotlib.pyplot as plt\n",
    "import numpy as np"
   ]
  },
  {
   "cell_type": "code",
   "execution_count": 39,
   "id": "57016067-326e-492c-a800-41a5ffb17f1a",
   "metadata": {},
   "outputs": [],
   "source": [
    "def f(n):\n",
    "    n = n - 2003\n",
    "    return 12000+750*n"
   ]
  },
  {
   "cell_type": "code",
   "execution_count": 53,
   "id": "7f5fef63-47b3-4945-bbb3-1fd498ba34ed",
   "metadata": {},
   "outputs": [],
   "source": [
    "x = []\n",
    "y = []\n",
    "for n in range(2003,2015):\n",
    "    y.append(f(n))\n",
    "    x.append(n)"
   ]
  },
  {
   "cell_type": "code",
   "execution_count": 54,
   "id": "56a9dfd3-0840-4b6b-81b1-770c85e803d8",
   "metadata": {},
   "outputs": [
    {
     "data": {
      "text/plain": [
       "18000"
      ]
     },
     "execution_count": 54,
     "metadata": {},
     "output_type": "execute_result"
    }
   ],
   "source": [
    "f(2011)"
   ]
  },
  {
   "cell_type": "code",
   "execution_count": 55,
   "id": "f50d24b3-28e1-407d-b3be-a8a85e0530d1",
   "metadata": {},
   "outputs": [
    {
     "data": {
      "text/plain": [
       "Text(0, 0.5, 'Years')"
      ]
     },
     "execution_count": 55,
     "metadata": {},
     "output_type": "execute_result"
    },
    {
     "data": {
      "image/png": "[encoded data removed]",
      "text/plain": [
       "<Figure size 432x288 with 1 Axes>"
      ]
     },
     "metadata": {
      "needs_background": "light"
     },
     "output_type": "display_data"
    }
   ],
   "source": [
    "plt.plot(x,y,marker='o')\n",
    "plt.title(\"Population Vs Years\")\n",
    "plt.xticks(np.arange(min(X), max(X)+1, 2))\n",
    "plt.ylabel('Population')\n",
    "plt.ylabel('Years')\n"
   ]
  }
 ],
 "metadata": {
  "kernelspec": {
   "display_name": "Python 3 (ipykernel)",
   "language": "python",
   "name": "python3"
  },
  "language_info": {
   "codemirror_mode": {
    "name": "ipython",
    "version": 3
   },
   "file_extension": ".py",
   "mimetype": "text/x-python",
   "name": "python",
   "nbconvert_exporter": "python",
   "pygments_lexer": "ipython3",
   "version": "3.8.10"
  }
 },
 "nbformat": 4,
 "nbformat_minor": 5
}
