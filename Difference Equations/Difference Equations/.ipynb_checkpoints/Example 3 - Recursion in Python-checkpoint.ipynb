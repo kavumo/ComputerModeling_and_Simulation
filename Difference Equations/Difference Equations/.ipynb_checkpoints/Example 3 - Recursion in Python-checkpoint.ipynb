{
 "cells": [
  {
   "cell_type": "code",
   "execution_count": 169,
   "id": "0900d821-ea9d-4f64-95f4-0252a9f93e65",
   "metadata": {},
   "outputs": [],
   "source": [
    "import matplotlib.pyplot as plt\n",
    "import numpy as np"
   ]
  },
  {
   "cell_type": "markdown",
   "id": "aaf0c7b8-5aef-4808-9b49-fb918552f3cb",
   "metadata": {},
   "source": [
    "### Recursive Function\t\n",
    "In Python, we know that a function can call other functions. It is even possible for the function to call itself. These types of construct are termed as recursive functions.\n",
    "\n",
    "The following is an example of a recursive function to find the factorial of an integer.\n",
    "\n",
    "Factorial of a number is the product of all the integers from 1 to that number. \n",
    "\n",
    "For example, the factorial of 6 (denoted as 6!) is 1 x 2 x 3 x 4 x 5 x 6 = 720"
   ]
  },
  {
   "cell_type": "code",
   "execution_count": 170,
   "id": "d8d06996-d15c-4c69-b20e-b821ea4bd4b4",
   "metadata": {},
   "outputs": [
    {
     "name": "stdout",
     "output_type": "stream",
     "text": [
      "The factorial of 3 is 6\n"
     ]
    }
   ],
   "source": [
    "def factorial(x):\n",
    "    if x == 1:\n",
    "        return 1\n",
    "    else:\n",
    "        return (x * factorial(x-1))\n",
    "num = 3\n",
    "print(\"The factorial of\", num, \"is\", factorial(num))"
   ]
  },
  {
   "cell_type": "markdown",
   "id": "ff9a04e0-90ff-4961-a87f-1c4e792c4eb3",
   "metadata": {},
   "source": [
    "### Logistic Growth and Recursion\n",
    "In order to solve logistic growth problems we need to use recusive functions. In the following examples we shall calculate and plot the population of interest after x years."
   ]
  },
  {
   "cell_type": "markdown",
   "id": "b890ba12-5441-460e-ac34-a9e4d5e2086b",
   "metadata": {
    "tags": []
   },
   "source": [
    "#### Example 1: \n",
    "A forest is currently home to a population of 200 rabbits. The forest is estimated to be able to sustain a population of 2000 rabbits. Absent any restrictions, the rabbits would grow by 50% per year. \n",
    "\n",
    "##### Solution:\n",
    "Modeling this with a logistic growth model, r = 0.50, K = 2000, and P<sub>0</sub> = 200. \n",
    "\n",
    "Recall, $P_n = P_{n-1}+r*(\\dfrac{1-P_{n-1}}{k})*P_{n-1}$ \n",
    "\n",
    "Therefore,\n",
    "\n",
    "$P_1 = P_0+0.50*(1-\\dfrac{P_0}{2000})*P_0 = 200 + 0.5*(\\dfrac{1-200}{2000})*200 = 290$\n",
    "\n",
    "$P_2 = P_1+0.50*(1-\\dfrac{P_1}{2000})*P_1 = 290 + 0.5*(\\dfrac{1-290}{2000})*290 \\approx 414$\n",
    "\n",
    "$P_3 = P_2+0.50*(1-\\dfrac{P_2}{2000})*P_2 = 414 + 0.5*(\\dfrac{1-414}{2000})*414 \\approx 578$\n",
    "\n",
    "...\n",
    "\n",
    "We can see the recursive pattern in this scenario"
   ]
  },
  {
   "cell_type": "code",
   "execution_count": 188,
   "id": "688208ea-ce6a-41f8-bdf9-d385e3e3215a",
   "metadata": {},
   "outputs": [],
   "source": [
    "def f(n):\n",
    "    if n == 0:\n",
    "        return 200\n",
    "    return round(f(n-1) + 0.5 * (1 - f(n-1)/2000)*f(n-1),0)"
   ]
  },
  {
   "cell_type": "code",
   "execution_count": 189,
   "id": "7f5fef63-47b3-4945-bbb3-1fd498ba34ed",
   "metadata": {},
   "outputs": [],
   "source": [
    "y = []\n",
    "x = []\n",
    "for n in range(0,15):\n",
    "    y.append(f(n))\n",
    "    x.append(n)"
   ]
  },
  {
   "cell_type": "code",
   "execution_count": 190,
   "id": "f50d24b3-28e1-407d-b3be-a8a85e0530d1",
   "metadata": {},
   "outputs": [
    {
     "data": {
      "text/plain": [
       "[<matplotlib.lines.Line2D at 0x7fb9d2cda0d0>]"
      ]
     },
     "execution_count": 190,
     "metadata": {},
     "output_type": "execute_result"
    },
    {
     "data": {
      "image/png": "[encoded data removed]",
      "text/plain": [
       "<Figure size 432x288 with 1 Axes>"
      ]
     },
     "metadata": {
      "needs_background": "light"
     },
     "output_type": "display_data"
    }
   ],
   "source": [
    "plt.title(\"Population Vs Years\")\n",
    "plt.ylabel('Population')\n",
    "plt.ylabel('Years')\n",
    "plt.plot(x,y,marker='o')"
   ]
  },
  {
   "cell_type": "markdown",
   "id": "d5115623-9e5b-404a-bc41-215cd4b20828",
   "metadata": {},
   "source": [
    "#### Example 2: \n",
    "On an island that can support a population of 1000 lizards, there is currently a population of 600. These lizards have a lot of offspring and not a lot of natural predators, so have very high growth rate, around 150%. \n",
    "\n",
    "\n",
    "##### Solution:\n",
    "Modeling this with a logistic growth model, r = 1.50, K = 1000, and P<sub>0</sub> = 600. \n"
   ]
  },
  {
   "cell_type": "code",
   "execution_count": 191,
   "id": "93f0235c-9917-4679-ad06-b8b899f71d2f",
   "metadata": {},
   "outputs": [],
   "source": [
    "def f(n):\n",
    "    if n == 0:\n",
    "        return 600\n",
    "    return round(f(n-1) + 1.5 * (1 - f(n-1)/1000)*f(n-1),0)"
   ]
  },
  {
   "cell_type": "code",
   "execution_count": 192,
   "id": "79d2323b-2499-4a86-8808-e17cd5b450af",
   "metadata": {},
   "outputs": [],
   "source": [
    "y = []\n",
    "x = []\n",
    "for n in range(0,15):\n",
    "    y.append(f(n))\n",
    "    x.append(n)"
   ]
  },
  {
   "cell_type": "code",
   "execution_count": 193,
   "id": "8db7e9ce-bc09-4149-8910-c2a9fc3fa760",
   "metadata": {},
   "outputs": [
    {
     "data": {
      "text/plain": [
       "[<matplotlib.lines.Line2D at 0x7fb9d33492b0>]"
      ]
     },
     "execution_count": 193,
     "metadata": {},
     "output_type": "execute_result"
    },
    {
     "data": {
      "image/png": "[encoded data removed]",
      "text/plain": [
       "<Figure size 432x288 with 1 Axes>"
      ]
     },
     "metadata": {
      "needs_background": "light"
     },
     "output_type": "display_data"
    }
   ],
   "source": [
    "plt.title(\"Population Vs Years\")\n",
    "plt.ylabel('Population')\n",
    "plt.ylabel('Years')\n",
    "plt.plot(x,y,marker='o')"
   ]
  },
  {
   "cell_type": "markdown",
   "id": "99696b30-7ff2-442f-b137-70bfefc11178",
   "metadata": {},
   "source": [
    "#### Exercise: \n",
    "    \n",
    "Suppose On a neighboring island, with the same conditions but a higher growth rate of about 205%.\n",
    "Plot the graph of the population growth in the island."
   ]
  },
  {
   "cell_type": "code",
   "execution_count": 201,
   "id": "76c2ab7e-fbbf-40fd-a695-563c45bca7cd",
   "metadata": {},
   "outputs": [
    {
     "data": {
      "text/plain": [
       "[<matplotlib.lines.Line2D at 0x7fb9d2b2b610>]"
      ]
     },
     "execution_count": 201,
     "metadata": {},
     "output_type": "execute_result"
    },
    {
     "data": {
      "image/png": "[encoded data removed]",
      "text/plain": [
       "<Figure size 432x288 with 1 Axes>"
      ]
     },
     "metadata": {
      "needs_background": "light"
     },
     "output_type": "display_data"
    }
   ],
   "source": [
    "def f(n):\n",
    "    if n == 0:\n",
    "        return 600\n",
    "    return round(f(n-1) + 2.05 * (1 - f(n-1)/1000)*f(n-1),0)\n",
    "y = []\n",
    "x = []\n",
    "for n in range(0,15):\n",
    "    y.append(f(n))\n",
    "    x.append(n)\n",
    "    \n",
    "plt.title(\"Population Vs Years\")\n",
    "plt.ylabel('Population')\n",
    "plt.ylabel('Years')\n",
    "plt.plot(x,y,marker='o')"
   ]
  },
  {
   "cell_type": "code",
   "execution_count": null,
   "id": "b0045c08-4288-4903-8792-8f44077fc6f1",
   "metadata": {},
   "outputs": [],
   "source": []
  }
 ],
 "metadata": {
  "kernelspec": {
   "display_name": "Python 3 (ipykernel)",
   "language": "python",
   "name": "python3"
  },
  "language_info": {
   "codemirror_mode": {
    "name": "ipython",
    "version": 3
   },
   "file_extension": ".py",
   "mimetype": "text/x-python",
   "name": "python",
   "nbconvert_exporter": "python",
   "pygments_lexer": "ipython3",
   "version": "3.8.5"
  }
 },
 "nbformat": 4,
 "nbformat_minor": 5
}
